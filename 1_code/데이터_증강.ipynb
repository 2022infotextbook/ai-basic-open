{
  "cells": [
    {
      "cell_type": "markdown",
      "source": [
        "데이터 증강 실습을 위한 페이지.\n",
        "\n",
        "이미지는 jpg 또는 jpeg 파일을 사용하세요."
      ],
      "metadata": {
        "id": "apREgUBS8CJQ"
      }
    },
    {
      "cell_type": "code",
      "execution_count": null,
      "metadata": {
        "id": "d8LQhK80pESk"
      },
      "outputs": [],
      "source": [
        "# 이미지 업로드\n",
        "from google.colab import files\n",
        "import os\n",
        "\n",
        "while True:\n",
        "    uploaded = files.upload()\n",
        "    uploaded_image_path = list(uploaded.keys())[0]\n",
        "\n",
        "    # 파일 확장자 확인\n",
        "    file_extension = os.path.splitext(uploaded_image_path)[1].lower()\n",
        "    if file_extension not in ['.jpg', '.jpeg']:\n",
        "        print(f\"'{uploaded_image_path}'은/는 jpg 또는 jpeg 형식이 아닙니다. 다시 시도해주세요.\")\n",
        "        continue\n",
        "    else:\n",
        "        break\n"
      ]
    },
    {
      "cell_type": "code",
      "execution_count": null,
      "metadata": {
        "id": "kKbmTdT2fmY0"
      },
      "outputs": [],
      "source": [
        "# 이미지 불러오기 및 전처리\n",
        "import numpy as np\n",
        "import matplotlib.pyplot as plt\n",
        "from skimage.io import imread\n",
        "from skimage.transform import rotate, rescale, resize, warp, AffineTransform\n",
        "from skimage.util import random_noise, crop\n",
        "from skimage.exposure import rescale_intensity\n",
        "from skimage.filters import gaussian\n",
        "from skimage.color import rgb2hsv, hsv2rgb\n",
        "import cv2\n",
        "\n",
        "def load_and_preprocess_image(image_path):\n",
        "    img = imread(image_path)\n",
        "    img = cv2.resize(img, (128, 128))\n",
        "    return img\n",
        "\n",
        "image = load_and_preprocess_image(uploaded_image_path)\n",
        "\n",
        "def augment_image(image, degree=90, scale=1.2, sigma=3, crop_size=20):\n",
        "    # 회전\n",
        "    rotated_image = rotate(image, degree, mode='edge')\n",
        "\n",
        "    # 노이즈 추가\n",
        "    noisy_image = random_noise(image)\n",
        "\n",
        "    # 좌우 반전\n",
        "    flip_lr_image = np.fliplr(image)\n",
        "\n",
        "    # 수직 반전\n",
        "    flip_ud_image = np.flipud(image)\n",
        "\n",
        "    # 밝기 조절\n",
        "    v_min, v_max = np.percentile(image, (0.2, 99.8))\n",
        "    better_contrast = rescale_intensity(image, in_range=(v_min, v_max))\n",
        "\n",
        "    # 크기 변경\n",
        "    rescaled_image = rescale(image, scale)\n",
        "    pad_width = [(int((rescaled_image.shape[0]-image.shape[0])/2), int((rescaled_image.shape[0]-image.shape[0])/2)),\n",
        "                 (int((rescaled_image.shape[1]-image.shape[1])/2), int((rescaled_image.shape[1]-image.shape[1])/2)),\n",
        "                 (0, 0)]\n",
        "    resized_image = np.pad(rescaled_image, pad_width, mode='constant')\n",
        "\n",
        "    # 가장자리 제거\n",
        "    cropped_image = crop(image, ((crop_size, crop_size), (crop_size, crop_size), (0, 0)))\n",
        "\n",
        "    # 색상 변경\n",
        "    hsv_image = rgb2hsv(image)\n",
        "    hsv_image[...,0] = (hsv_image[...,0] + 0.5) % 1  # hue channel\n",
        "    color_changed_image = hsv2rgb(hsv_image)\n",
        "\n",
        "    # 흐릿하게\n",
        "    blurred_image = gaussian(image, sigma=sigma, channel_axis=True)\n",
        "\n",
        "    return rotated_image, noisy_image, flip_lr_image, flip_ud_image, better_contrast, resized_image, cropped_image, color_changed_image, blurred_image\n",
        "\n",
        "# 이미지 증강\n",
        "rotated_image, noisy_image, flip_lr_image, flip_ud_image, better_contrast, resized_image, cropped_image, color_changed_image, blurred_image = augment_image(image)"
      ]
    },
    {
      "cell_type": "code",
      "execution_count": null,
      "metadata": {
        "id": "g_w0gqA5jPsO"
      },
      "outputs": [],
      "source": [
        "# 원본 이미지 및 증강된 이미지 출력\n",
        "fig, axs = plt.subplots(3, 5, figsize=(15, 8))\n",
        "\n",
        "# 원본 이미지\n",
        "\n",
        "axs[0, 2].imshow(image)\n",
        "axs[0, 2].set_title('Original Image')\n",
        "\n",
        "# 증강된 이미지\n",
        "# 원본 이미지 크기에 맞게 잘라내기\n",
        "rotated_image = cv2.resize(rotated_image, (image.shape[1], image.shape[0]))\n",
        "axs[1, 0].imshow(rotated_image)\n",
        "axs[1, 0].set_title('Rotated Image')\n",
        "\n",
        "axs[1, 1].imshow(noisy_image)\n",
        "axs[1, 1].set_title('Noisy Image')\n",
        "\n",
        "axs[1, 3].imshow(flip_lr_image)\n",
        "axs[1, 3].set_title('Left-Right Flipped Image')\n",
        "\n",
        "axs[1, 4].imshow(flip_ud_image)\n",
        "axs[1, 4].set_title('Up-Down Flipped Image')\n",
        "\n",
        "axs[2, 0].imshow(better_contrast)\n",
        "axs[2, 0].set_title('Better Contrast Image')\n",
        "\n",
        "# 원본 이미지 크기에 맞게 잘라내기\n",
        "cropped_image = cv2.resize(cropped_image, (image.shape[1], image.shape[0]))\n",
        "axs[2, 1].imshow(cropped_image)\n",
        "axs[2, 1].set_title('Cropped Image')\n",
        "\n",
        "axs[2, 3].imshow(color_changed_image)\n",
        "axs[2, 3].set_title('Color Changed Image')\n",
        "\n",
        "axs[2, 4].imshow(blurred_image)\n",
        "axs[2, 4].set_title('Blurred Image')\n",
        "\n",
        "for ax in axs.ravel():\n",
        "    ax.axis('off')\n",
        "\n",
        "plt.show()\n"
      ]
    }
  ],
  "metadata": {
    "colab": {
      "provenance": []
    },
    "kernelspec": {
      "display_name": "Python 3",
      "name": "python3"
    },
    "language_info": {
      "name": "python"
    }
  },
  "nbformat": 4,
  "nbformat_minor": 0
}